{
 "cells": [
  {
   "cell_type": "markdown",
   "id": "ad87eb42-254b-4864-945c-fe491a87ba46",
   "metadata": {},
   "source": [
    "## Data Science Tools and Ecosystem"
   ]
  },
  {
   "cell_type": "markdown",
   "id": "006390e9-cdef-4382-b6b8-4c14000d9c4a",
   "metadata": {},
   "source": [
    "### In this notebook, Data Science Tools and Ecosystem are summarized."
   ]
  },
  {
   "cell_type": "markdown",
   "id": "d39b44e4-2b73-43bb-8a99-65eee8bc0d6d",
   "metadata": {},
   "source": [
    "**Objectives:**\n",
    "- List of popular languages for Data Science.\n",
    "- List of commonly used libraries in Data Science.\n",
    "- List of development environments used for Data Science.\n",
    "- Examples for arithmetic operations performed in Python."
   ]
  },
  {
   "cell_type": "markdown",
   "id": "6130cf58-6db8-408b-a9e8-a2cd9999b6cd",
   "metadata": {},
   "source": [
    "#### Some of the popular languages that Data Scientists use are:\n",
    "1. Python\n",
    "2. R\n",
    "3. Scala"
   ]
  },
  {
   "cell_type": "markdown",
   "id": "47719af0-dce0-4a65-a867-9c799a961df6",
   "metadata": {},
   "source": [
    "#### Some of the commonly used libraries used by Data Scientists include:\n",
    "1. NumPy\n",
    "2. SciPy\n",
    "3. Pandas"
   ]
  },
  {
   "cell_type": "markdown",
   "id": "244c8303-3609-44d9-8f58-b02d5eba8877",
   "metadata": {},
   "source": [
    "| Data Science Tools|\n",
    "---------------------\n",
    "| Jupyter Notebook | \n",
    "| Jupyter Lab | \n",
    "| RStudio |"
   ]
  },
  {
   "cell_type": "markdown",
   "id": "29b3fac5-4ef9-4cc3-8d08-8f314d0ace12",
   "metadata": {},
   "source": [
    "### Below are a few examples of evaluating arithmetic expressions in Python"
   ]
  },
  {
   "cell_type": "code",
   "execution_count": 4,
   "id": "549b4650-acbc-49b9-b19f-0c3ca332b88b",
   "metadata": {},
   "outputs": [
    {
     "data": {
      "text/plain": [
       "17"
      ]
     },
     "execution_count": 4,
     "metadata": {},
     "output_type": "execute_result"
    }
   ],
   "source": [
    "# This a simple arithmetic expression to mutiply then add integers\n",
    "(3*4)+5"
   ]
  },
  {
   "cell_type": "code",
   "execution_count": 5,
   "id": "b41d5587-1050-47dc-a50f-cb3d27c8076f",
   "metadata": {},
   "outputs": [
    {
     "data": {
      "text/plain": [
       "3.3333333333333335"
      ]
     },
     "execution_count": 5,
     "metadata": {},
     "output_type": "execute_result"
    }
   ],
   "source": [
    "# This will convert 200 minutes to hours by diving by 60\n",
    "200/60"
   ]
  },
  {
   "cell_type": "markdown",
   "id": "d7d6c2f8-37cc-49ed-9c1c-ae970e8e24ef",
   "metadata": {},
   "source": [
    "## Author\n",
    "Dror Avigdor"
   ]
  },
  {
   "cell_type": "code",
   "execution_count": null,
   "id": "9e84ae3e-4c6c-4b88-bb63-8e1a0fe6dadc",
   "metadata": {},
   "outputs": [],
   "source": []
  }
 ],
 "metadata": {
  "kernelspec": {
   "display_name": "Python 3 (ipykernel)",
   "language": "python",
   "name": "python3"
  },
  "language_info": {
   "codemirror_mode": {
    "name": "ipython",
    "version": 3
   },
   "file_extension": ".py",
   "mimetype": "text/x-python",
   "name": "python",
   "nbconvert_exporter": "python",
   "pygments_lexer": "ipython3",
   "version": "3.12.4"
  }
 },
 "nbformat": 4,
 "nbformat_minor": 5
}
